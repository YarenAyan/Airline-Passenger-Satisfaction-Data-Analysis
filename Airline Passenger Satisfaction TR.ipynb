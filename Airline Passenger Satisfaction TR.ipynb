{
 "cells": [
  {
   "cell_type": "markdown",
   "metadata": {},
   "source": [
    "# Havayolu Yolcu Memnuniyeti Veri Analizi Projesi\n",
    "\n",
    "Bu proje, Kaggle platformundan temin edilen [\"Havayolu Yolcu Memnuniyeti\" (Airline Passenger Satisfaction)](https://www.kaggle.com/datasets/teejmahal20/airline-passenger-satisfaction) veri setini kullanarak kapsamlı bir veri analizi gerçekleştirmeyi amaçlamaktadır. Projenin temel hedefi, yolcu memnuniyetini etkileyen faktörleri belirlemek ve veri analizi becerilerini (istatistiksel özetleme, eksik değer analizi, aykırı değer tespiti ve görselleştirme) uygulamaktır.\n",
    "\n",
    "\n",
    "## Veri Seti Hakkında\n",
    "\n",
    "Bu veri seti, bir havayolu şirketinin yolcularına uyguladığı memnuniyet anketinin sonuçlarını içermektedir. Temel amaç, hangi faktörlerin yolcuların memnuniyet düzeyini (memnun, nötr veya memnuniyetsiz) etkilediğini anlamak ve potansiyel olarak yolcu memnuniyetini tahmin edebilecek modeller geliştirmek için bir temel oluşturmaktır.\n",
    "\n",
    "Veri seti, yolculara ait demografik bilgileri, uçuş detaylarını ve çeşitli hizmetlere yönelik memnuniyet değerlendirmelerini içeren birden fazla değişkenden oluşmaktadır.\n",
    "\n",
    "### Veri Seti İçeriği (Öznitelikler)\n",
    "\n",
    "Aşağıda veri setinde bulunan öznitelikler ve açıklamaları listelenmiştir:\n",
    "\n",
    "* **Gender**: Yolcunun cinsiyeti (Female, Male).\n",
    "* **Customer Type**: Müşteri tipi (Loyal customer - Sadık Müşteri, disloyal customer - Sadık Olmayan Müşteri).\n",
    "* **Age**: Yolcunun gerçek yaşı.\n",
    "* **Type of Travel**: Yolculuğun amacı (Personal Travel - Kişisel Seyahat, Business Travel - İş Seyahati).\n",
    "* **Class**: Uçaktaki seyahat sınıfı (Business, Eco, Eco Plus).\n",
    "* **Flight distance**: Bu yolculuğun uçuş mesafesi.\n",
    "* **Inflight wifi service**: Uçak içi Wi-Fi hizmetinin memnuniyet düzeyi (0: Uygulanamaz; 1-5).\n",
    "* **Departure/Arrival time convenient**: Kalkış/Varış saati uygunluğunun memnuniyet düzeyi.\n",
    "* **Ease of Online booking**: Online rezervasyon kolaylığının memnuniyet düzeyi.\n",
    "* **Gate location**: Kapı konumunun memnuniyet düzeyi.\n",
    "* **Food and drink**: Yiyecek ve içecek hizmetinin memnuniyet düzeyi.\n",
    "* **Online boarding**: Online biniş hizmetinin memnuniyet düzeyi.\n",
    "* **Seat comfort**: Koltuk rahatlığının memnuniyet düzeyi.\n",
    "* **Inflight entertainment**: Uçak içi eğlence sisteminin memnuniyet düzeyi.\n",
    "* **On-board service**: Uçak içi genel hizmetin memnuniyet düzeyi.\n",
    "* **Leg room service**: Bacak mesafesi hizmetinin memnuniyet düzeyi.\n",
    "* **Baggage handling**: Bagaj hizmetlerinin memnuniyet düzeyi.\n",
    "* **Check-in service**: Check-in hizmetinin memnuniyet düzeyi.\n",
    "* **Inflight service**: Uçuş sırasındaki hizmetin memnuniyet düzeyi.\n",
    "* **Cleanliness**: Uçağın temizliğinin memnuniyet düzeyi.\n",
    "* **Departure Delay in Minutes**: Kalkıştaki gecikme süresi (dakika).\n",
    "* **Arrival Delay in Minutes**: Varıştaki gecikme süresi (dakika).\n",
    "* **Satisfaction**: Havayolu memnuniyet düzeyi (satisfaction - memnun, neutral or dissatisfaction - nötr veya memnuniyetsiz).\n",
    "\n",
    "\n",
    "### Projenin Adımları\n",
    "\n",
    "Bu analiz projesi aşağıdaki adımları içerecektir:\n",
    "1.  **Veri Setinin Yüklenmesi ve İlk Bakış:** Veri setlerinin pandas DataFrame olarak yüklenmesi ve temel yapısının incelenmesi.\n",
    "2.  **İstatistiksel Özet:** Veri setindeki sayısal ve kategorik değişkenler için merkezi eğilim ve dağılım ölçülerinin hesaplanması.\n",
    "3.  **Eksik Değer Analizi:** Veri setindeki eksik değerlerin tespit edilmesi ve bu eksikliklerle başa çıkma stratejilerinin değerlendirilmesi.\n",
    "4.  **Aykırı Değer Analizi:** Sayısal değişkenlerdeki aykırı değerlerin belirlenmesi ve bu değerlerin analize etkilerinin incelenmesi.\n",
    "5.  **Görselleştirme:** Veriyi daha iyi anlamak ve bulguları sunmak için sayısal ve kategorik değişkenlere uygun grafiklerin oluşturulması.\n",
    "\n",
    "Bu adımlar, veri setini derinlemesine anlamamıza ve yolcu memnuniyetine etki eden faktörler hakkında değerli içgörüler kazanmamıza yardımcı olacaktır."
   ]
  },
  {
   "cell_type": "markdown",
   "metadata": {},
   "source": [
    "### İlk Bakış "
   ]
  },
  {
   "cell_type": "markdown",
   "metadata": {},
   "source": [
    "**Gerekli Kütüphanelerin Yüklenmesi**"
   ]
  },
  {
   "cell_type": "code",
   "execution_count": 10,
   "metadata": {},
   "outputs": [],
   "source": [
    "import pandas as pd # pandas: Veri manipülasyonu ve DataFrame işlemleri için temel kütüphane.\n",
    "import numpy as np # numpy: Sayısal hesaplamalar ve çok boyutlu dizilerle çalışmak için kullanılır.\n",
    "import matplotlib.pyplot as plt # matplotlib.pyplot: Temel veri görselleştirme kütüphanesi.\n",
    "import seaborn as sns # seaborn: matplotlib tabanlı, daha gelişmiş ve estetik istatistiksel görselleştirmeler için.\n",
    "import missingno as msno # missingno: Eksik veri analizi ve görselleştirme için kullanılır."
   ]
  },
  {
   "cell_type": "markdown",
   "metadata": {},
   "source": [
    "**Veri Setlerinin Yüklenmesi**"
   ]
  },
  {
   "cell_type": "code",
   "execution_count": 11,
   "metadata": {},
   "outputs": [
    {
     "name": "stdout",
     "output_type": "stream",
     "text": [
      "Veri setleri başarıyla yüklendi!\n"
     ]
    }
   ],
   "source": [
    "try:\n",
    "    train_df = pd.read_csv('train.csv') # train.csv dosyasını pandas DataFrame olarak okuması için.\n",
    "    test_df = pd.read_csv('test.csv') # test.csv dosyasını pandas DataFrame olarak okuması için.\n",
    "    print(\"Veri setleri başarıyla yüklendi!\")\n",
    "except FileNotFoundError:\n",
    "    #Dosyalar bulunamazsa hata mesajı göstermesi ve programın devam etmesi için boş DataFrame'ler oluşturulması.\n",
    "    print(f\"Hata: Dosyalar bulunamadı. Lütfen dosya yollarını kontrol et: {'train.csv'}, {'test.csv'}\")\n",
    "    train_df = pd.DataFrame()\n",
    "    test_df = pd.DataFrame()"
   ]
  },
  {
   "cell_type": "markdown",
   "metadata": {},
   "source": [
    "**Veri Setinin Boyutları**"
   ]
  },
  {
   "cell_type": "code",
   "execution_count": 12,
   "metadata": {},
   "outputs": [
    {
     "name": "stdout",
     "output_type": "stream",
     "text": [
      "Satır Sayısı: 103904\n",
      "Sütun Sayısı: 25\n"
     ]
    }
   ],
   "source": [
    "print(f\"Satır Sayısı: {train_df.shape[0]}\")\n",
    "print(f\"Sütun Sayısı: {train_df.shape[1]}\")"
   ]
  },
  {
   "cell_type": "markdown",
   "metadata": {},
   "source": [
    "Veri seti, 103904 adet yolcuya ve 25 adet özelliğe sahiptir. Bu, analiz yapmak için yeterli büyüklükte bir veri seti olduğunu göstermektedir."
   ]
  },
  {
   "cell_type": "markdown",
   "metadata": {},
   "source": [
    "**Veri Setinin İlk 5 Satırı**"
   ]
  },
  {
   "cell_type": "code",
   "execution_count": 13,
   "metadata": {},
   "outputs": [
    {
     "name": "stdout",
     "output_type": "stream",
     "text": [
      "Veri Setinden İlk 5 Satır:\n"
     ]
    },
    {
     "data": {
      "text/html": [
       "<div>\n",
       "<style scoped>\n",
       "    .dataframe tbody tr th:only-of-type {\n",
       "        vertical-align: middle;\n",
       "    }\n",
       "\n",
       "    .dataframe tbody tr th {\n",
       "        vertical-align: top;\n",
       "    }\n",
       "\n",
       "    .dataframe thead th {\n",
       "        text-align: right;\n",
       "    }\n",
       "</style>\n",
       "<table border=\"1\" class=\"dataframe\">\n",
       "  <thead>\n",
       "    <tr style=\"text-align: right;\">\n",
       "      <th></th>\n",
       "      <th>Unnamed: 0</th>\n",
       "      <th>id</th>\n",
       "      <th>Gender</th>\n",
       "      <th>Customer Type</th>\n",
       "      <th>Age</th>\n",
       "      <th>Type of Travel</th>\n",
       "      <th>Class</th>\n",
       "      <th>Flight Distance</th>\n",
       "      <th>Inflight wifi service</th>\n",
       "      <th>Departure/Arrival time convenient</th>\n",
       "      <th>...</th>\n",
       "      <th>Inflight entertainment</th>\n",
       "      <th>On-board service</th>\n",
       "      <th>Leg room service</th>\n",
       "      <th>Baggage handling</th>\n",
       "      <th>Checkin service</th>\n",
       "      <th>Inflight service</th>\n",
       "      <th>Cleanliness</th>\n",
       "      <th>Departure Delay in Minutes</th>\n",
       "      <th>Arrival Delay in Minutes</th>\n",
       "      <th>satisfaction</th>\n",
       "    </tr>\n",
       "  </thead>\n",
       "  <tbody>\n",
       "    <tr>\n",
       "      <th>0</th>\n",
       "      <td>0</td>\n",
       "      <td>70172</td>\n",
       "      <td>Male</td>\n",
       "      <td>Loyal Customer</td>\n",
       "      <td>13</td>\n",
       "      <td>Personal Travel</td>\n",
       "      <td>Eco Plus</td>\n",
       "      <td>460</td>\n",
       "      <td>3</td>\n",
       "      <td>4</td>\n",
       "      <td>...</td>\n",
       "      <td>5</td>\n",
       "      <td>4</td>\n",
       "      <td>3</td>\n",
       "      <td>4</td>\n",
       "      <td>4</td>\n",
       "      <td>5</td>\n",
       "      <td>5</td>\n",
       "      <td>25</td>\n",
       "      <td>18.0</td>\n",
       "      <td>neutral or dissatisfied</td>\n",
       "    </tr>\n",
       "    <tr>\n",
       "      <th>1</th>\n",
       "      <td>1</td>\n",
       "      <td>5047</td>\n",
       "      <td>Male</td>\n",
       "      <td>disloyal Customer</td>\n",
       "      <td>25</td>\n",
       "      <td>Business travel</td>\n",
       "      <td>Business</td>\n",
       "      <td>235</td>\n",
       "      <td>3</td>\n",
       "      <td>2</td>\n",
       "      <td>...</td>\n",
       "      <td>1</td>\n",
       "      <td>1</td>\n",
       "      <td>5</td>\n",
       "      <td>3</td>\n",
       "      <td>1</td>\n",
       "      <td>4</td>\n",
       "      <td>1</td>\n",
       "      <td>1</td>\n",
       "      <td>6.0</td>\n",
       "      <td>neutral or dissatisfied</td>\n",
       "    </tr>\n",
       "    <tr>\n",
       "      <th>2</th>\n",
       "      <td>2</td>\n",
       "      <td>110028</td>\n",
       "      <td>Female</td>\n",
       "      <td>Loyal Customer</td>\n",
       "      <td>26</td>\n",
       "      <td>Business travel</td>\n",
       "      <td>Business</td>\n",
       "      <td>1142</td>\n",
       "      <td>2</td>\n",
       "      <td>2</td>\n",
       "      <td>...</td>\n",
       "      <td>5</td>\n",
       "      <td>4</td>\n",
       "      <td>3</td>\n",
       "      <td>4</td>\n",
       "      <td>4</td>\n",
       "      <td>4</td>\n",
       "      <td>5</td>\n",
       "      <td>0</td>\n",
       "      <td>0.0</td>\n",
       "      <td>satisfied</td>\n",
       "    </tr>\n",
       "    <tr>\n",
       "      <th>3</th>\n",
       "      <td>3</td>\n",
       "      <td>24026</td>\n",
       "      <td>Female</td>\n",
       "      <td>Loyal Customer</td>\n",
       "      <td>25</td>\n",
       "      <td>Business travel</td>\n",
       "      <td>Business</td>\n",
       "      <td>562</td>\n",
       "      <td>2</td>\n",
       "      <td>5</td>\n",
       "      <td>...</td>\n",
       "      <td>2</td>\n",
       "      <td>2</td>\n",
       "      <td>5</td>\n",
       "      <td>3</td>\n",
       "      <td>1</td>\n",
       "      <td>4</td>\n",
       "      <td>2</td>\n",
       "      <td>11</td>\n",
       "      <td>9.0</td>\n",
       "      <td>neutral or dissatisfied</td>\n",
       "    </tr>\n",
       "    <tr>\n",
       "      <th>4</th>\n",
       "      <td>4</td>\n",
       "      <td>119299</td>\n",
       "      <td>Male</td>\n",
       "      <td>Loyal Customer</td>\n",
       "      <td>61</td>\n",
       "      <td>Business travel</td>\n",
       "      <td>Business</td>\n",
       "      <td>214</td>\n",
       "      <td>3</td>\n",
       "      <td>3</td>\n",
       "      <td>...</td>\n",
       "      <td>3</td>\n",
       "      <td>3</td>\n",
       "      <td>4</td>\n",
       "      <td>4</td>\n",
       "      <td>3</td>\n",
       "      <td>3</td>\n",
       "      <td>3</td>\n",
       "      <td>0</td>\n",
       "      <td>0.0</td>\n",
       "      <td>satisfied</td>\n",
       "    </tr>\n",
       "  </tbody>\n",
       "</table>\n",
       "<p>5 rows × 25 columns</p>\n",
       "</div>"
      ],
      "text/plain": [
       "   Unnamed: 0      id  Gender      Customer Type  Age   Type of Travel  \\\n",
       "0           0   70172    Male     Loyal Customer   13  Personal Travel   \n",
       "1           1    5047    Male  disloyal Customer   25  Business travel   \n",
       "2           2  110028  Female     Loyal Customer   26  Business travel   \n",
       "3           3   24026  Female     Loyal Customer   25  Business travel   \n",
       "4           4  119299    Male     Loyal Customer   61  Business travel   \n",
       "\n",
       "      Class  Flight Distance  Inflight wifi service  \\\n",
       "0  Eco Plus              460                      3   \n",
       "1  Business              235                      3   \n",
       "2  Business             1142                      2   \n",
       "3  Business              562                      2   \n",
       "4  Business              214                      3   \n",
       "\n",
       "   Departure/Arrival time convenient  ...  Inflight entertainment  \\\n",
       "0                                  4  ...                       5   \n",
       "1                                  2  ...                       1   \n",
       "2                                  2  ...                       5   \n",
       "3                                  5  ...                       2   \n",
       "4                                  3  ...                       3   \n",
       "\n",
       "   On-board service  Leg room service  Baggage handling  Checkin service  \\\n",
       "0                 4                 3                 4                4   \n",
       "1                 1                 5                 3                1   \n",
       "2                 4                 3                 4                4   \n",
       "3                 2                 5                 3                1   \n",
       "4                 3                 4                 4                3   \n",
       "\n",
       "   Inflight service  Cleanliness  Departure Delay in Minutes  \\\n",
       "0                 5            5                          25   \n",
       "1                 4            1                           1   \n",
       "2                 4            5                           0   \n",
       "3                 4            2                          11   \n",
       "4                 3            3                           0   \n",
       "\n",
       "   Arrival Delay in Minutes             satisfaction  \n",
       "0                      18.0  neutral or dissatisfied  \n",
       "1                       6.0  neutral or dissatisfied  \n",
       "2                       0.0                satisfied  \n",
       "3                       9.0  neutral or dissatisfied  \n",
       "4                       0.0                satisfied  \n",
       "\n",
       "[5 rows x 25 columns]"
      ]
     },
     "metadata": {},
     "output_type": "display_data"
    }
   ],
   "source": [
    "print(\"Veri Setinden İlk 5 Satır:\")\n",
    "display(train_df.head())"
   ]
  },
  {
   "cell_type": "markdown",
   "metadata": {},
   "source": [
    "* Veri setinin ilk beş satırı incelendiğinde, sütun adlarının veri seti tanımında belirtilenlerle uyumlu olduğu görülmektedir.\n",
    "* Unnamed: 0 ve id sütunları dikkat çekmektedir. Bu sütunların, veri setine muhtemelen otomatik olarak eklenmiş indeks veya kimlik belirteçleri olduğu ve analiz için doğrudan bir katkısı olmayabilir.\n",
    "* Herhangi bir bariz veri giriş hatası veya beklenmedik karakter (örn: '?', '*') ilk beş satırda gözlemlenmemiştir."
   ]
  },
  {
   "cell_type": "markdown",
   "metadata": {},
   "source": [
    " **Sütun İsimleri ve Veri Tipleri**"
   ]
  },
  {
   "cell_type": "code",
   "execution_count": 14,
   "metadata": {},
   "outputs": [
    {
     "name": "stdout",
     "output_type": "stream",
     "text": [
      "<class 'pandas.core.frame.DataFrame'>\n",
      "RangeIndex: 103904 entries, 0 to 103903\n",
      "Data columns (total 25 columns):\n",
      " #   Column                             Non-Null Count   Dtype  \n",
      "---  ------                             --------------   -----  \n",
      " 0   Unnamed: 0                         103904 non-null  int64  \n",
      " 1   id                                 103904 non-null  int64  \n",
      " 2   Gender                             103904 non-null  object \n",
      " 3   Customer Type                      103904 non-null  object \n",
      " 4   Age                                103904 non-null  int64  \n",
      " 5   Type of Travel                     103904 non-null  object \n",
      " 6   Class                              103904 non-null  object \n",
      " 7   Flight Distance                    103904 non-null  int64  \n",
      " 8   Inflight wifi service              103904 non-null  int64  \n",
      " 9   Departure/Arrival time convenient  103904 non-null  int64  \n",
      " 10  Ease of Online booking             103904 non-null  int64  \n",
      " 11  Gate location                      103904 non-null  int64  \n",
      " 12  Food and drink                     103904 non-null  int64  \n",
      " 13  Online boarding                    103904 non-null  int64  \n",
      " 14  Seat comfort                       103904 non-null  int64  \n",
      " 15  Inflight entertainment             103904 non-null  int64  \n",
      " 16  On-board service                   103904 non-null  int64  \n",
      " 17  Leg room service                   103904 non-null  int64  \n",
      " 18  Baggage handling                   103904 non-null  int64  \n",
      " 19  Checkin service                    103904 non-null  int64  \n",
      " 20  Inflight service                   103904 non-null  int64  \n",
      " 21  Cleanliness                        103904 non-null  int64  \n",
      " 22  Departure Delay in Minutes         103904 non-null  int64  \n",
      " 23  Arrival Delay in Minutes           103594 non-null  float64\n",
      " 24  satisfaction                       103904 non-null  object \n",
      "dtypes: float64(1), int64(19), object(5)\n",
      "memory usage: 19.8+ MB\n"
     ]
    }
   ],
   "source": [
    "train_df.info()"
   ]
  },
  {
   "cell_type": "markdown",
   "metadata": {},
   "source": [
    "*Sütun Veri Tipleri*\n",
    "* Age, Flight Distance, Inflight wifi service gibi çoğu memnuniyet skoru sütunu ve Departure Delay in Minutes beklendiği gibi sayısal (int64) olarak görünmektedir. Toplam 19 adet int64 tipinde sütun bulunmaktadır.\n",
    "* Arrival Delay in Minutes sütunu float64 veri tipindedir. Bu, ondalıklı değerler içerebileceği anlamına gelir.\n",
    "* ender, Customer Type, Type of Travel, Class ve hedef değişkenimiz olan satisfaction gibi 5 sütun object veri tipindedir. Bu, bu sütunların metin içerdiği anlamına gelir.\n",
    "* Unnamed: 0 ve id sütunları da int64 tipindedir ve daha önce belirtildiği gibi analiz için gereksiz görünmektedir.\n",
    "\n",
    "*Eksik Değerler*\n",
    "* Çıktıdaki 'Non-Null Count' (Eksik Olmayan Değer Sayısı) sütunu, toplam 103.904 kayda kıyasla incelendiğinde: Arrival Delay in Minutes sütununda 103.594 adet eksik olmayan değer olduğu görülmektedir. Bu durum, bu sütunda (103.904 - 103.594) = 310 adet eksik değer olduğunu göstermektedir.\n",
    "* Diğer tüm sütunlar tam (103.904 non-null) görünmektedir, yani Arrival Delay in Minutes dışında eksik değere sahip başka bir sütun bulunmamaktadır.\n",
    "\n",
    "* Veri setinin toplam bellek kullanımı yaklaşık 19.8+ MB olarak raporlanmıştır."
   ]
  },
  {
   "cell_type": "markdown",
   "metadata": {},
   "source": [
    "### İstatistiksel Özet"
   ]
  },
  {
   "cell_type": "code",
   "execution_count": 15,
   "metadata": {},
   "outputs": [
    {
     "name": "stdout",
     "output_type": "stream",
     "text": [
      "\n",
      "Sayısal Sütunlar İçin İstatistiksel Özet:\n"
     ]
    },
    {
     "data": {
      "text/html": [
       "<div>\n",
       "<style scoped>\n",
       "    .dataframe tbody tr th:only-of-type {\n",
       "        vertical-align: middle;\n",
       "    }\n",
       "\n",
       "    .dataframe tbody tr th {\n",
       "        vertical-align: top;\n",
       "    }\n",
       "\n",
       "    .dataframe thead th {\n",
       "        text-align: right;\n",
       "    }\n",
       "</style>\n",
       "<table border=\"1\" class=\"dataframe\">\n",
       "  <thead>\n",
       "    <tr style=\"text-align: right;\">\n",
       "      <th></th>\n",
       "      <th>count</th>\n",
       "      <th>mean</th>\n",
       "      <th>std</th>\n",
       "      <th>min</th>\n",
       "      <th>25%</th>\n",
       "      <th>50%</th>\n",
       "      <th>75%</th>\n",
       "      <th>max</th>\n",
       "    </tr>\n",
       "  </thead>\n",
       "  <tbody>\n",
       "    <tr>\n",
       "      <th>Unnamed: 0</th>\n",
       "      <td>103904.0</td>\n",
       "      <td>51951.500000</td>\n",
       "      <td>29994.645522</td>\n",
       "      <td>0.0</td>\n",
       "      <td>25975.75</td>\n",
       "      <td>51951.5</td>\n",
       "      <td>77927.25</td>\n",
       "      <td>103903.0</td>\n",
       "    </tr>\n",
       "    <tr>\n",
       "      <th>id</th>\n",
       "      <td>103904.0</td>\n",
       "      <td>64924.210502</td>\n",
       "      <td>37463.812252</td>\n",
       "      <td>1.0</td>\n",
       "      <td>32533.75</td>\n",
       "      <td>64856.5</td>\n",
       "      <td>97368.25</td>\n",
       "      <td>129880.0</td>\n",
       "    </tr>\n",
       "    <tr>\n",
       "      <th>Age</th>\n",
       "      <td>103904.0</td>\n",
       "      <td>39.379706</td>\n",
       "      <td>15.114964</td>\n",
       "      <td>7.0</td>\n",
       "      <td>27.00</td>\n",
       "      <td>40.0</td>\n",
       "      <td>51.00</td>\n",
       "      <td>85.0</td>\n",
       "    </tr>\n",
       "    <tr>\n",
       "      <th>Flight Distance</th>\n",
       "      <td>103904.0</td>\n",
       "      <td>1189.448375</td>\n",
       "      <td>997.147281</td>\n",
       "      <td>31.0</td>\n",
       "      <td>414.00</td>\n",
       "      <td>843.0</td>\n",
       "      <td>1743.00</td>\n",
       "      <td>4983.0</td>\n",
       "    </tr>\n",
       "    <tr>\n",
       "      <th>Inflight wifi service</th>\n",
       "      <td>103904.0</td>\n",
       "      <td>2.729683</td>\n",
       "      <td>1.327829</td>\n",
       "      <td>0.0</td>\n",
       "      <td>2.00</td>\n",
       "      <td>3.0</td>\n",
       "      <td>4.00</td>\n",
       "      <td>5.0</td>\n",
       "    </tr>\n",
       "    <tr>\n",
       "      <th>Departure/Arrival time convenient</th>\n",
       "      <td>103904.0</td>\n",
       "      <td>3.060296</td>\n",
       "      <td>1.525075</td>\n",
       "      <td>0.0</td>\n",
       "      <td>2.00</td>\n",
       "      <td>3.0</td>\n",
       "      <td>4.00</td>\n",
       "      <td>5.0</td>\n",
       "    </tr>\n",
       "    <tr>\n",
       "      <th>Ease of Online booking</th>\n",
       "      <td>103904.0</td>\n",
       "      <td>2.756901</td>\n",
       "      <td>1.398929</td>\n",
       "      <td>0.0</td>\n",
       "      <td>2.00</td>\n",
       "      <td>3.0</td>\n",
       "      <td>4.00</td>\n",
       "      <td>5.0</td>\n",
       "    </tr>\n",
       "    <tr>\n",
       "      <th>Gate location</th>\n",
       "      <td>103904.0</td>\n",
       "      <td>2.976883</td>\n",
       "      <td>1.277621</td>\n",
       "      <td>0.0</td>\n",
       "      <td>2.00</td>\n",
       "      <td>3.0</td>\n",
       "      <td>4.00</td>\n",
       "      <td>5.0</td>\n",
       "    </tr>\n",
       "    <tr>\n",
       "      <th>Food and drink</th>\n",
       "      <td>103904.0</td>\n",
       "      <td>3.202129</td>\n",
       "      <td>1.329533</td>\n",
       "      <td>0.0</td>\n",
       "      <td>2.00</td>\n",
       "      <td>3.0</td>\n",
       "      <td>4.00</td>\n",
       "      <td>5.0</td>\n",
       "    </tr>\n",
       "    <tr>\n",
       "      <th>Online boarding</th>\n",
       "      <td>103904.0</td>\n",
       "      <td>3.250375</td>\n",
       "      <td>1.349509</td>\n",
       "      <td>0.0</td>\n",
       "      <td>2.00</td>\n",
       "      <td>3.0</td>\n",
       "      <td>4.00</td>\n",
       "      <td>5.0</td>\n",
       "    </tr>\n",
       "    <tr>\n",
       "      <th>Seat comfort</th>\n",
       "      <td>103904.0</td>\n",
       "      <td>3.439396</td>\n",
       "      <td>1.319088</td>\n",
       "      <td>0.0</td>\n",
       "      <td>2.00</td>\n",
       "      <td>4.0</td>\n",
       "      <td>5.00</td>\n",
       "      <td>5.0</td>\n",
       "    </tr>\n",
       "    <tr>\n",
       "      <th>Inflight entertainment</th>\n",
       "      <td>103904.0</td>\n",
       "      <td>3.358158</td>\n",
       "      <td>1.332991</td>\n",
       "      <td>0.0</td>\n",
       "      <td>2.00</td>\n",
       "      <td>4.0</td>\n",
       "      <td>4.00</td>\n",
       "      <td>5.0</td>\n",
       "    </tr>\n",
       "    <tr>\n",
       "      <th>On-board service</th>\n",
       "      <td>103904.0</td>\n",
       "      <td>3.382363</td>\n",
       "      <td>1.288354</td>\n",
       "      <td>0.0</td>\n",
       "      <td>2.00</td>\n",
       "      <td>4.0</td>\n",
       "      <td>4.00</td>\n",
       "      <td>5.0</td>\n",
       "    </tr>\n",
       "    <tr>\n",
       "      <th>Leg room service</th>\n",
       "      <td>103904.0</td>\n",
       "      <td>3.351055</td>\n",
       "      <td>1.315605</td>\n",
       "      <td>0.0</td>\n",
       "      <td>2.00</td>\n",
       "      <td>4.0</td>\n",
       "      <td>4.00</td>\n",
       "      <td>5.0</td>\n",
       "    </tr>\n",
       "    <tr>\n",
       "      <th>Baggage handling</th>\n",
       "      <td>103904.0</td>\n",
       "      <td>3.631833</td>\n",
       "      <td>1.180903</td>\n",
       "      <td>1.0</td>\n",
       "      <td>3.00</td>\n",
       "      <td>4.0</td>\n",
       "      <td>5.00</td>\n",
       "      <td>5.0</td>\n",
       "    </tr>\n",
       "    <tr>\n",
       "      <th>Checkin service</th>\n",
       "      <td>103904.0</td>\n",
       "      <td>3.304290</td>\n",
       "      <td>1.265396</td>\n",
       "      <td>0.0</td>\n",
       "      <td>3.00</td>\n",
       "      <td>3.0</td>\n",
       "      <td>4.00</td>\n",
       "      <td>5.0</td>\n",
       "    </tr>\n",
       "    <tr>\n",
       "      <th>Inflight service</th>\n",
       "      <td>103904.0</td>\n",
       "      <td>3.640428</td>\n",
       "      <td>1.175663</td>\n",
       "      <td>0.0</td>\n",
       "      <td>3.00</td>\n",
       "      <td>4.0</td>\n",
       "      <td>5.00</td>\n",
       "      <td>5.0</td>\n",
       "    </tr>\n",
       "    <tr>\n",
       "      <th>Cleanliness</th>\n",
       "      <td>103904.0</td>\n",
       "      <td>3.286351</td>\n",
       "      <td>1.312273</td>\n",
       "      <td>0.0</td>\n",
       "      <td>2.00</td>\n",
       "      <td>3.0</td>\n",
       "      <td>4.00</td>\n",
       "      <td>5.0</td>\n",
       "    </tr>\n",
       "    <tr>\n",
       "      <th>Departure Delay in Minutes</th>\n",
       "      <td>103904.0</td>\n",
       "      <td>14.815618</td>\n",
       "      <td>38.230901</td>\n",
       "      <td>0.0</td>\n",
       "      <td>0.00</td>\n",
       "      <td>0.0</td>\n",
       "      <td>12.00</td>\n",
       "      <td>1592.0</td>\n",
       "    </tr>\n",
       "    <tr>\n",
       "      <th>Arrival Delay in Minutes</th>\n",
       "      <td>103594.0</td>\n",
       "      <td>15.178678</td>\n",
       "      <td>38.698682</td>\n",
       "      <td>0.0</td>\n",
       "      <td>0.00</td>\n",
       "      <td>0.0</td>\n",
       "      <td>13.00</td>\n",
       "      <td>1584.0</td>\n",
       "    </tr>\n",
       "  </tbody>\n",
       "</table>\n",
       "</div>"
      ],
      "text/plain": [
       "                                      count          mean           std   min  \\\n",
       "Unnamed: 0                         103904.0  51951.500000  29994.645522   0.0   \n",
       "id                                 103904.0  64924.210502  37463.812252   1.0   \n",
       "Age                                103904.0     39.379706     15.114964   7.0   \n",
       "Flight Distance                    103904.0   1189.448375    997.147281  31.0   \n",
       "Inflight wifi service              103904.0      2.729683      1.327829   0.0   \n",
       "Departure/Arrival time convenient  103904.0      3.060296      1.525075   0.0   \n",
       "Ease of Online booking             103904.0      2.756901      1.398929   0.0   \n",
       "Gate location                      103904.0      2.976883      1.277621   0.0   \n",
       "Food and drink                     103904.0      3.202129      1.329533   0.0   \n",
       "Online boarding                    103904.0      3.250375      1.349509   0.0   \n",
       "Seat comfort                       103904.0      3.439396      1.319088   0.0   \n",
       "Inflight entertainment             103904.0      3.358158      1.332991   0.0   \n",
       "On-board service                   103904.0      3.382363      1.288354   0.0   \n",
       "Leg room service                   103904.0      3.351055      1.315605   0.0   \n",
       "Baggage handling                   103904.0      3.631833      1.180903   1.0   \n",
       "Checkin service                    103904.0      3.304290      1.265396   0.0   \n",
       "Inflight service                   103904.0      3.640428      1.175663   0.0   \n",
       "Cleanliness                        103904.0      3.286351      1.312273   0.0   \n",
       "Departure Delay in Minutes         103904.0     14.815618     38.230901   0.0   \n",
       "Arrival Delay in Minutes           103594.0     15.178678     38.698682   0.0   \n",
       "\n",
       "                                        25%      50%       75%       max  \n",
       "Unnamed: 0                         25975.75  51951.5  77927.25  103903.0  \n",
       "id                                 32533.75  64856.5  97368.25  129880.0  \n",
       "Age                                   27.00     40.0     51.00      85.0  \n",
       "Flight Distance                      414.00    843.0   1743.00    4983.0  \n",
       "Inflight wifi service                  2.00      3.0      4.00       5.0  \n",
       "Departure/Arrival time convenient      2.00      3.0      4.00       5.0  \n",
       "Ease of Online booking                 2.00      3.0      4.00       5.0  \n",
       "Gate location                          2.00      3.0      4.00       5.0  \n",
       "Food and drink                         2.00      3.0      4.00       5.0  \n",
       "Online boarding                        2.00      3.0      4.00       5.0  \n",
       "Seat comfort                           2.00      4.0      5.00       5.0  \n",
       "Inflight entertainment                 2.00      4.0      4.00       5.0  \n",
       "On-board service                       2.00      4.0      4.00       5.0  \n",
       "Leg room service                       2.00      4.0      4.00       5.0  \n",
       "Baggage handling                       3.00      4.0      5.00       5.0  \n",
       "Checkin service                        3.00      3.0      4.00       5.0  \n",
       "Inflight service                       3.00      4.0      5.00       5.0  \n",
       "Cleanliness                            2.00      3.0      4.00       5.0  \n",
       "Departure Delay in Minutes             0.00      0.0     12.00    1592.0  \n",
       "Arrival Delay in Minutes               0.00      0.0     13.00    1584.0  "
      ]
     },
     "metadata": {},
     "output_type": "display_data"
    }
   ],
   "source": [
    "print(\"\\nSayısal Sütunlar İçin İstatistiksel Özet:\")\n",
    "display(train_df.describe().T)"
   ]
  },
  {
   "cell_type": "markdown",
   "metadata": {},
   "source": [
    "*Bu tablo, veri setindeki sayısal özelliklerin dağılımı ve merkezi eğilimleri hakkında bize çok değerli bilgiler sunmaktadır.*\n",
    "* *count*, sütundaki eksik olmayan değerlerin sayısını gösterir. \n",
    "    * İstatistiksel özet, Arrival Delay in Minutes sütununda eksik verilerin mevcut olduğunu teyit etmektedir.\n",
    "* *mean*, sütundaki tüm değerlerin aritmetik ortalamasıdır ve değerlerin genel merkezi hakkında bir fikir verir.\n",
    "    * Yolcuların ortalama yaşının yaklaşık 39.4 yıl olduğu görülmektedir.\n",
    "    * Ortalama uçuş mesafesi yaklaşık 1189 birimdir.\n",
    "    * Hizmet kalitesi değerlendirmelerinde, örneğin Inflight wifi service için ortalama memnuniyet 2.73 iken, Cleanliness için bu değer 3.29'dur. Bu, temizliğin genel olarak Wi-Fi hizmetinden daha yüksek puan aldığını göstermektedir.\n",
    "* *std*, değerlerin ortalamadan ne kadar saptığını, yani verinin yayılımını gösteren bir ölçüttür. Yüksek standart sapma, verinin geniş bir aralığa yayıldığını; düşük standart sapma ise verinin ortalama etrafında kümelendiğini gösterir.\n",
    "    * Age (Yaş) sütununun standart sapması yaklaşık 15.11 iken, Flight Distance (Uçuş Mesafesi) sütununun standart sapması yaklaşık 997.15'tir. Bu, uçuş mesafelerindeki değişkenliğin, yolcu yaşlarındaki değişkenliğe göre çok daha fazla olduğunu gösterir.\n",
    "    * Departure Delay in Minutes (std: 38.07) ve Arrival Delay in Minutes (std: 38.47) sütunlarındaki yüksek standart sapma değerleri, gecikme sürelerinin yolculuktan yolculuğa önemli ölçüde farklılık gösterdiğini, yani bazı uçuşlarda hiç gecikme olmazken bazılarında çok uzun gecikmeler yaşanabildiğini işaret eder. \n",
    "* *min*, bir sütundaki en küçük değeri ifade eder. Bu, verinin alt sınırını anlamamıza yardımcı olur.\n",
    "    * Age sütunundaki minimum değer 7'dir, bu da ankete katılan en genç yolcunun 7 yaşında olduğunu gösterir.\n",
    "    * Hizmet değerlendirme sütunlarının çoğunda (Inflight wifi service, Food and drink vb.) minimum değerin 0 veya 1 olması, bu değerlendirme skalasının alt sınırını belirtir.\n",
    "    * Departure Delay in Minutes ve Arrival Delay in Minutes için minimum değerin 0 olması, bazı uçuşların hiç gecikme yapmadığını gösterir.\n",
    "* *25% (Birinci Çeyrek - Q1)*, veriler küçükten büyüğe sıralandığında, tüm değerlerin %25'inin bu değerden küçük veya ona eşit olduğu noktayı gösterir. Veri dağılımının alt çeyreği hakkında bilgi verir.\n",
    "    * Age sütununda birinci çeyrek değeri 27.0'dır. Bu, yolcuların %25'inin 27 yaşında veya daha genç olduğu anlamına gelir.\n",
    "    * Flight Distance için birinci çeyrek değeri 414.0'tür, yani uçuşların %25'i 414 birim veya daha kısa mesafededir.\n",
    "* *50% (Medyan veya İkinci Çeyrek - Q2)*, veriler sıralandığında tam ortada yer alan değerdir. Medyan, özellikle aykırı değerlerin olduğu çarpık dağılımlarda ortalamaya göre merkezi eğilimi daha iyi yansıtabilir.\n",
    "    * Age sütununda medyan 40.0 iken, ortalama 39.38'dir. Bu iki değerin birbirine yakın olması, yaş dağılımının görece simetrik olabileceğine işaret eder.\n",
    "    * Departure Delay in Minutes sütununda medyan 0.0 iken ortalama 14.80'dir. Aradaki bu büyük fark, gecikme verilerinin sağa çarpık olduğunu ve yolcuların en az yarısının kalkışta hiç gecikme yaşamadığını gösterir. Ortalama değer, az sayıdaki yüksek gecikme süresinden etkilenmektedir.\n",
    "    * Inflight entertainment (Uçuş içi eğlence) için medyan 4.0, ortalama ise 3.36'dır. Bu, yolcuların yarısının uçuş içi eğlenceye 4 veya daha yüksek bir puan verdiğini, ancak daha düşük puanların ortalamayı aşağı çektiğini gösterir.\n",
    "* *75% (Üçüncü Çeyrek - Q3)*, veriler küçükten büyüğe sıralandığında, tüm değerlerin %75'inin bu değerden küçük veya ona eşit olduğu noktayı gösterir. Veri dağılımının üst çeyreği hakkında bilgi verir.\n",
    "    * Age sütununda üçüncü çeyrek değeri 51.0'dır. Bu, yolcuların %75'inin 51 yaşında veya daha genç olduğu anlamına gelir (dolayısıyla %25'i 51 yaşından büyüktür).\n",
    "    * Flight Distance için üçüncü çeyrek değeri 1743.0'tür, yani uçuşların %75'i 1743 birim veya daha kısa mesafededir.\n",
    "* *max*, bir sütundaki en büyük değeri ifade eder. Bu, verinin üst sınırını ve potansiyel aykırı değerleri tespit etmede yardımcı olur.\n",
    "    * Age sütunundaki maksimum değer 85'tir, bu da ankete katılan en yaşlı yolcunun 85 yaşında olduğunu gösterir.\n",
    "    * Departure Delay in Minutes sütunundaki maksimum değer 1592.0 dakika ve Arrival Delay in Minutes sütunundaki maksimum değer 1584.0 dakika gibi oldukça yüksek değerlerdir. Bu değerler, veri setinde uç noktalarda gecikmeler olduğunu ve bunların aykırı değer olarak incelenmesi gerektiğini gösterir."
   ]
  },
  {
   "cell_type": "code",
   "execution_count": 16,
   "metadata": {},
   "outputs": [
    {
     "name": "stdout",
     "output_type": "stream",
     "text": [
      "\n",
      "Kategorik Sütunlar İçin İstatistiksel Özet:\n"
     ]
    },
    {
     "data": {
      "text/html": [
       "<div>\n",
       "<style scoped>\n",
       "    .dataframe tbody tr th:only-of-type {\n",
       "        vertical-align: middle;\n",
       "    }\n",
       "\n",
       "    .dataframe tbody tr th {\n",
       "        vertical-align: top;\n",
       "    }\n",
       "\n",
       "    .dataframe thead th {\n",
       "        text-align: right;\n",
       "    }\n",
       "</style>\n",
       "<table border=\"1\" class=\"dataframe\">\n",
       "  <thead>\n",
       "    <tr style=\"text-align: right;\">\n",
       "      <th></th>\n",
       "      <th>count</th>\n",
       "      <th>unique</th>\n",
       "      <th>top</th>\n",
       "      <th>freq</th>\n",
       "    </tr>\n",
       "  </thead>\n",
       "  <tbody>\n",
       "    <tr>\n",
       "      <th>Gender</th>\n",
       "      <td>103904</td>\n",
       "      <td>2</td>\n",
       "      <td>Female</td>\n",
       "      <td>52727</td>\n",
       "    </tr>\n",
       "    <tr>\n",
       "      <th>Customer Type</th>\n",
       "      <td>103904</td>\n",
       "      <td>2</td>\n",
       "      <td>Loyal Customer</td>\n",
       "      <td>84923</td>\n",
       "    </tr>\n",
       "    <tr>\n",
       "      <th>Type of Travel</th>\n",
       "      <td>103904</td>\n",
       "      <td>2</td>\n",
       "      <td>Business travel</td>\n",
       "      <td>71655</td>\n",
       "    </tr>\n",
       "    <tr>\n",
       "      <th>Class</th>\n",
       "      <td>103904</td>\n",
       "      <td>3</td>\n",
       "      <td>Business</td>\n",
       "      <td>49665</td>\n",
       "    </tr>\n",
       "    <tr>\n",
       "      <th>satisfaction</th>\n",
       "      <td>103904</td>\n",
       "      <td>2</td>\n",
       "      <td>neutral or dissatisfied</td>\n",
       "      <td>58879</td>\n",
       "    </tr>\n",
       "  </tbody>\n",
       "</table>\n",
       "</div>"
      ],
      "text/plain": [
       "                 count unique                      top   freq\n",
       "Gender          103904      2                   Female  52727\n",
       "Customer Type   103904      2           Loyal Customer  84923\n",
       "Type of Travel  103904      2          Business travel  71655\n",
       "Class           103904      3                 Business  49665\n",
       "satisfaction    103904      2  neutral or dissatisfied  58879"
      ]
     },
     "metadata": {},
     "output_type": "display_data"
    }
   ],
   "source": [
    "print(\"\\nKategorik Sütunlar İçin İstatistiksel Özet:\")\n",
    "display(train_df.describe(include=['object']).T)"
   ]
  },
  {
   "cell_type": "markdown",
   "metadata": {},
   "source": [
    "*Bu tablo, veri setindeki her bir kategorik (genellikle metin veya object tipi) sütun için aşağıdaki istatistikleri gösterir:*\n",
    "* *count*, sütundaki eksik olmayan (non-missing) değerlerin sayısını gösterir.\n",
    "    * Tabloda, tüm kategorik sütunlar için count değeri 103904 olarak görünmektedir yani bu kategorik sütunlarda hiç eksik değer olmadığını gösterir.\n",
    "* *unique*, sütun içinde kaç farklı kategori veya değer olduğunu gösterir.\n",
    "    * Gender (Cinsiyet), 2 benzersiz değere sahip. Bu Erkek ve Kadın kategorilerini ifade eder.\n",
    "    * Customer Type (Müşteri Tipi), 2 benzersiz değere sahip. Sadık Müşteri (Loyal Customer) ve Sadık Olmayan Müşteri (disloyal Customer) şeklindedir.\n",
    "    * Type of Travel (Seyahat Tipi), 2 benzersiz değere sahip. İş Seyahati (Business travel) ve Kişisel Seyahat (Personal Travel) şeklindedir.\n",
    "    * Class (Uçuş Sınıfı), 3 benzersiz değere sahip. Bunlar Ekonomi (Eco), Ekonomi Artı (Eco Plus) ve Business gibi sınıflardır.\n",
    "    * satisfaction (Memnuniyet), 2 benzersiz değere sahip. Bunlar Memnun (satisfied) ve Nötr veya Memnun Değil (neutral or dissatisfied) gibi iki durumu ifade eder.\n",
    "* *top*, sütun içinde en çok tekrar eden kategoriyi belirtir.\n",
    "    * Gender sütununda en sık görülen kategori Female'dir, Customer Type sütununda en sık görülen kategori Loyal Customer'dır, Type of Travel sütununda en sık görülen kategori Business travel'dır, Class sütununda en sık görülen kategori Business'dir, satisfaction sütununda en sık görülen kategori neutral or dissatisfied'dir.\n",
    "* *freq*, top olarak belirtilen kategorinin veri setinde kaç kez geçtiğini belirtir. Bu değer, toplam count ile oranlanarak kategorinin veri seti içindeki yüzdesel ağırlığı hakkında bilgi verir.\n",
    "    * Gender (Cinsiyet) sütununda en sık görülen Female kategorisi 52727 kez tekrarlanmaktadır. Bu, toplam yolcuların %50.75'inin (52727 / 103904 * 100) Female olduğunu gösterir.\n",
    "    * Customer Type (Müşteri Tipi) sütununda en sık görülen Loyal Customer kategorisi 84923 kez tekrarlanmaktadır. Bu, yolcuların %81.73'ünün (84923 / 103904 * 100) Loyal Customer olduğunu gösterir.\n",
    "    * Type of Travel (Seyahat Tipi) sütununda en sık görülen Business travel kategorisi 71655 kez tekrarlanmaktadır. Bu, seyahatlerin %68.96'sının (71655 / 103904 * 100) Business travel olduğunu gösterir.\n",
    "    * Class (Uçuş Sınıfı) sütununda en sık görülen Business kategorisi 49665 kez tekrarlanmaktadır. Bu, yolcuların %47.80'inin (49665 / 103904 * 100) Business sınıfında seyahat ettiğini gösterir.\n",
    "    * satisfaction (Memnuniyet) sütununda en sık görülen neutral or dissatisfied kategorisi 58879 kez tekrarlanmaktadır. Bu, yolcuların %56.67'sinin (58879 / 103904 * 100) memnuniyet durumunun neutral or dissatisfied olduğunu gösterir."
   ]
  },
  {
   "cell_type": "code",
   "execution_count": 26,
   "metadata": {},
   "outputs": [
    {
     "name": "stdout",
     "output_type": "stream",
     "text": [
      "Kategorik Değişkenlerin Frekans Dağılımları:\n",
      "----------------------------------------\n",
      "\n",
      "Değişken: Gender\n",
      "Female    52727\n",
      "Male      51177\n",
      "Name: Gender, dtype: int64\n",
      "En Yaygın Kategori (Gender): Female (52727 adet)\n",
      "Toplam Benzersiz Değer (Gender): 2\n",
      "--------------------------------------------------\n",
      "\n",
      "Değişken: Customer Type\n",
      "Loyal Customer       84923\n",
      "disloyal Customer    18981\n",
      "Name: Customer Type, dtype: int64\n",
      "En Yaygın Kategori (Customer Type): Loyal Customer (84923 adet)\n",
      "Toplam Benzersiz Değer (Customer Type): 2\n",
      "--------------------------------------------------\n",
      "\n",
      "Değişken: Type of Travel\n",
      "Business travel    71655\n",
      "Personal Travel    32249\n",
      "Name: Type of Travel, dtype: int64\n",
      "En Yaygın Kategori (Type of Travel): Business travel (71655 adet)\n",
      "Toplam Benzersiz Değer (Type of Travel): 2\n",
      "--------------------------------------------------\n",
      "\n",
      "Değişken: Class\n",
      "Business    49665\n",
      "Eco         46745\n",
      "Eco Plus     7494\n",
      "Name: Class, dtype: int64\n",
      "En Yaygın Kategori (Class): Business (49665 adet)\n",
      "Toplam Benzersiz Değer (Class): 3\n",
      "--------------------------------------------------\n",
      "\n",
      "Değişken: satisfaction\n",
      "neutral or dissatisfied    58879\n",
      "satisfied                  45025\n",
      "Name: satisfaction, dtype: int64\n",
      "En Yaygın Kategori (satisfaction): neutral or dissatisfied (58879 adet)\n",
      "Toplam Benzersiz Değer (satisfaction): 2\n",
      "--------------------------------------------------\n"
     ]
    }
   ],
   "source": [
    "print(\"Kategorik Değişkenlerin Frekans Dağılımları:\")\n",
    "print(\"-\" * 40)\n",
    "\n",
    "for col in train_df.select_dtypes(include='object').columns:\n",
    "    print(f\"\\nDeğişken: {col}\")\n",
    "    print(train_df[col].value_counts())\n",
    "    print(f\"En Yaygın Kategori ({col}): {train_df[col].mode()[0]} ({train_df[col].value_counts().max()} adet)\")\n",
    "    print(f\"Toplam Benzersiz Değer ({col}): {train_df[col].nunique()}\")\n",
    "    print(\"-\" * 50)"
   ]
  },
  {
   "cell_type": "markdown",
   "metadata": {},
   "source": [
    "Kategorik değişkenlerin her bir sınıfının dağılımını *value_counts()* incelemek, veri setindeki sınıfların dengesini ve dominant kategorileri anlamak açısından yapılmıştır. Bu analiz, özellikle hedef değişkenimiz olan satisfaction gibi değişkenlerdeki sınıf dengesini gözlemlememizi sağlar ve olası dengesiz veri seti sorunlarına (imbalanced dataset) karşı önceden fikir edinmemizi sağlar. Ayrıca Customer Type, Type of Travel ve Class gibi değişkenlerin frekansları, müşteri segmentasyonuna dair ilk ipuçlarını sunar.\n",
    "\n",
    "Yukarıdaki frekans dağılımları incelendiğinde, veri setimizdeki temel kategorik değişkenler hakkında aşağıdaki çıkarımlar yapılabilir:\n",
    "\n",
    "* *Gender:* Veri setindeki kadın ve erkek yolcu sayıları birbirine oldukça yakın ve dengeli bir dağılım göstermektedir. Bu, cinsiyetin veri setinde önemli bir yanlılık kaynağı olmadığını ve her iki cinsiyet grubunun da yeterince temsil edildiğini göstermektedir.\n",
    "\n",
    "* *Customer Type:* Yolcuların büyük çoğunluğunun sadık müşteri olduğu, sadık olmayan müşteri sayısının ise daha az olduğu görülmektedir. Bu durum, havayolu şirketinin müşteri tabanının büyük ölçüde sadık müşterilerden oluştuğunu veya anketin daha çok sadık müşterilere uygulandığını düşündürebilir. Sadık ve sadık olmayan müşteri grupları arasındaki bu dengesizlik, ileriki analizlerde müşteri tipi bazında memnuniyet farklılıklarını incelerken göz önünde bulundurulmalıdır.\n",
    "\n",
    "* *Type of Travel:* İş seyahati yapan yolcuların, kişisel seyahat yapan yolculardan belirgin şekilde daha fazla olduğu anlaşılmaktadır. Bu, veri setinin daha çok iş seyahati yapan yolcuların deneyimlerini yansıttığını ve havayolu şirketinin ana müşteri segmentinin iş dünyasından geldiğini gösterebilir. Seyahat tipinin memnuniyet üzerindeki etkileri, modelleme aşamasında önemli bir faktör olabilir.\n",
    "\n",
    "* *Class:* Yolcuların en çok Business ve Eco sınıflarında seyahat ettiği, Eco Plus sınıfının ise diğerlerine göre çok daha az tercih edildiği gözlemlenmektedir. İş ve Ekonomi sınıfları arasında sayıca benzerlik olması, her iki sınıfın da müşteri memnuniyeti üzerindeki etkilerini karşılaştırmak için yeterli veri sağladığını göstermektedir. Eco Plus sınıfının düşük temsili, bu sınıf özelinde yapılacak derinlemesine analizleri kısıtlayabilir.\n",
    "\n",
    "* *satisfaction:* Hedef değişkenimiz olan satisfaction incelendiğinde, nötr veya memnuniyetsiz yolcu sayısının, memnun yolcu sayısından daha fazla olduğu görülmektedir. Bu, veri setinde hafif bir sınıf dengesizliği (class imbalance) olduğunu işaret etmektedir; memnuniyetsiz veya nötr olan yolcuların oranı, memnun olanlardan yaklaşık %13 daha fazladır ($ \\frac{58879 - 45025}{45025} \\approx 0.30 $ değil, $ \\frac{58879}{45025} \\approx 1.30 $ katıdır, yani 1.3 katı kadar fazla). Bu dengesizlik, sınıflandırma modelleri oluşturulurken dikkate alınmalı ve gerektiğinde dengeleme teknikleri düşünülebilir."
   ]
  },
  {
   "cell_type": "markdown",
   "metadata": {},
   "source": [
    "**Gereksiz Sütunların Kaldırılması**"
   ]
  },
  {
   "cell_type": "code",
   "execution_count": 18,
   "metadata": {},
   "outputs": [
    {
     "name": "stdout",
     "output_type": "stream",
     "text": [
      "Gereksiz sütunlar kaldırıldı.\n",
      "Train veri setinin yeni boyutları: (103904, 23)\n"
     ]
    }
   ],
   "source": [
    "train_df.drop(['Unnamed: 0', 'id'], axis=1, inplace=True)\n",
    "print(\"Gereksiz sütunlar kaldırıldı.\")\n",
    "print(\"Train veri setinin yeni boyutları:\", train_df.shape)"
   ]
  },
  {
   "cell_type": "markdown",
   "metadata": {},
   "source": [
    "Veri setimizdeki Unnamed: 0 (tekrarlayan indeks) ve id (benzersiz yolcu tanımlayıcı) sütunları, memnuniyet analizi veya modellemesi için anlamlı öznitelikler sunmamaktadır. Analizi sadeleştirmek ve yanıltıcı ilişkileri önlemek amacıyla bu iki sütun, veri setlerinden kalıcı olarak çıkarılmıştır. Bu işlemle veri setindeki sütun sayısı 23'e inmiştir."
   ]
  },
  {
   "cell_type": "markdown",
   "metadata": {},
   "source": [
    "### Eksik Değer Analizi (Arrival Delay in Minutes)"
   ]
  },
  {
   "cell_type": "code",
   "execution_count": 19,
   "metadata": {},
   "outputs": [
    {
     "name": "stdout",
     "output_type": "stream",
     "text": [
      "'Arrival Delay in Minutes' sütunundaki eksik değer sayısı: 310\n",
      "'Arrival Delay in Minutes' sütunundaki eksik değer yüzdesi: 0.30%\n"
     ]
    }
   ],
   "source": [
    "# Eksik değerlerin sayısını ve yüzdesini kontrol etmek için.\n",
    "missing_values = train_df['Arrival Delay in Minutes'].isnull().sum()\n",
    "missing_percentage = (missing_values / len(train_df)) * 100 \n",
    "\n",
    "print(f\"'Arrival Delay in Minutes' sütunundaki eksik değer sayısı: {missing_values}\")\n",
    "print(f\"'Arrival Delay in Minutes' sütunundaki eksik değer yüzdesi: {missing_percentage:.2f}%\")"
   ]
  },
  {
   "cell_type": "markdown",
   "metadata": {},
   "source": [
    "Bu çıktılar, Arrival Delay in Minutes sütununda daha önce de gözlemlediğimzi gibi 310 adet eksik veri olduğunu ve bunun tüm veri setinin yaklaşık %0.30'una karşılık geldiğini göstermektedir. Bu oran, veri setinin geneline kıyasla düşük kabul edilebilir."
   ]
  },
  {
   "cell_type": "code",
   "execution_count": 20,
   "metadata": {},
   "outputs": [
    {
     "name": "stdout",
     "output_type": "stream",
     "text": [
      "\n",
      "'Arrival Delay in Minutes' değeri eksik olan satırlarda 'Departure Delay in Minutes' istatistikleri:\n"
     ]
    },
    {
     "data": {
      "text/plain": [
       "count    310.000000\n",
       "mean      37.432258\n",
       "std       62.239283\n",
       "min        0.000000\n",
       "25%        0.000000\n",
       "50%        8.000000\n",
       "75%       47.500000\n",
       "max      455.000000\n",
       "Name: Departure Delay in Minutes, dtype: float64"
      ]
     },
     "metadata": {},
     "output_type": "display_data"
    }
   ],
   "source": [
    "# Eksik değerlere sahip satırların Departure Delay in Minutes sütunundaki istatistiklerini görüntülemek için.\n",
    "missing_arrival_delay_df = train_df[train_df['Arrival Delay in Minutes'].isnull()] #Arrival Delay in Minutes sütununda eksik değere sahip olan tüm satırları filtreleyerek missing_arrival_delay_df adında yeni bir DataFrame oluşturur.\n",
    "print(\"\\n'Arrival Delay in Minutes' değeri eksik olan satırlarda 'Departure Delay in Minutes' istatistikleri:\") \n",
    "display(missing_arrival_delay_df['Departure Delay in Minutes'].describe()) #Eksik değerlere sahip satırların Departure Delay in Minutes sütunundaki istatistiklerini görüntülemek için."
   ]
  },
  {
   "cell_type": "markdown",
   "metadata": {},
   "source": [
    "Bu analiz, varış gecikmesi bilgisi olmayan uçuşların kalkış gecikmeleri açısından belirli bir eğilim gösterip göstermediğini anlamamıza yardımcı olur. \n",
    "* Varış gecikmesi eksik olan 310 satırda da kalkış gecikmesi bilgisi mevcut.\n",
    "* Bu 310 uçuşun ortalama kalkış gecikmesi yaklaşık 37 dakika.\n",
    "* Standart sapmanın yüksek olması, kalkış gecikmelerinde değişkenliğin olduğunu gösterir.\n",
    "* Varış gecikmesi eksik olan bazı uçuşlar, kalkışta hiç gecikme yaşamamış.\n",
    "* Bu uçuşların en az %25'i kalkışta hiç gecikmemiş.\n",
    "* Medyan kalkış gecikmesi 8 dakika.\n",
    "* Varış gecikmesi eksik olan bir uçuşta 455 dakikalık (yaklaşık 7.5 saat) bir kalkış gecikmesi yaşanmış.\n",
    "\n",
    "Bu istatistikler, varış gecikmesi eksik olan durumların sadece kalkışta gecikme olmayanlarla sınırlı olmadığını, çeşitli kalkış gecikme senaryolarını içerdiğini gösterir. Ancak medyanın ortalamadan düşük olması, bazı yüksek kalkış gecikmelerinin ortalamayı yukarı çektiğini, ancak genel olarak daha düşük kalkış gecikmelerinin de bu grupta yaygın olduğunu gösterir."
   ]
  },
  {
   "cell_type": "code",
   "execution_count": 21,
   "metadata": {},
   "outputs": [
    {
     "name": "stdout",
     "output_type": "stream",
     "text": [
      "\n",
      "Kalkışta gecikme olmayan ve varış gecikmesi eksik olan yolcu sayısı:\n",
      "116\n"
     ]
    }
   ],
   "source": [
    "print(\"\\nKalkışta gecikme olmayan ve varış gecikmesi eksik olan yolcu sayısı:\")\n",
    "print(missing_arrival_delay_df[missing_arrival_delay_df['Departure Delay in Minutes'] == 0].shape[0]) #  missing_arrival_delay_df DataFrame içinden kalkış gecikmesi tam olarak 0 dakika olan satırları seçer."
   ]
  },
  {
   "cell_type": "markdown",
   "metadata": {},
   "source": [
    "Bu sonuç, varış gecikmesi bilgisi eksik olan 310 yolcudan 116'sının aslında kalkışta hiç gecikme yaşamadığını göstermektedir. Bu, toplam eksiklerin yaklaşık %37'sine denk gelir ve dikkate değer bir orandır. Bu durum, eksikliklerin bir kısmının \"kalkışta gecikme yoksa varışta da önemli bir gecikme beklenmez ve bu nedenle veri girilmemiş olabilir\" çıkarımına dair bir ipucu sunar."
   ]
  },
  {
   "cell_type": "code",
   "execution_count": 22,
   "metadata": {},
   "outputs": [
    {
     "data": {
      "image/png": "[encoded data removed]",
      "text/plain": [
       "<Figure size 864x576 with 1 Axes>"
      ]
     },
     "metadata": {
      "needs_background": "light"
     },
     "output_type": "display_data"
    }
   ],
   "source": [
    "missing_arrival = train_df[train_df['Arrival Delay in Minutes'].isna()]\n",
    "\n",
    "plt.figure(figsize=(12,8))\n",
    "sns.histplot(missing_arrival['Departure Delay in Minutes'], kde=True, bins=30, color='skyblue')\n",
    "plt.title(\"Varış Gecikmesi Eksik Olan Uçuşların Kalkış Gecikmesi Dağılımı\", fontsize=14)\n",
    "plt.xlabel(\"Kalkış Gecikmesi (Dakika)\")\n",
    "plt.ylabel(\"Frekans\")\n",
    "plt.grid(True, linestyle=\"--\", alpha=0.6)\n",
    "plt.tight_layout()\n",
    "plt.show()"
   ]
  },
  {
   "cell_type": "markdown",
   "metadata": {},
   "source": [
    "Grafik, Arrival Delay in Minutes verisi eksik olan 310 uçuşun kalkış gecikmesi dağılımını göstermektedir. Dağılımın sağa çarpık (right-skewed) olması, az sayıda uçuşun ciddi kalkış gecikmeleri yaşadığını ortaya koymaktadır. Hem bu yüksek gecikmeli uçuşların varlığı hem de zamanında kalkan uçuşların yoğunluğu, eksik verilerin tek tip bir uçuş profiline ait olmadığını, aksine çeşitli gecikme durumlarını içerdiğini doğrulamaktadır."
   ]
  },
  {
   "cell_type": "code",
   "execution_count": 23,
   "metadata": {},
   "outputs": [
    {
     "name": "stdout",
     "output_type": "stream",
     "text": [
      "\n",
      "'Arrival Delay in Minutes' eksik olan satırlarda Satisfaction dağılımı:\n"
     ]
    },
    {
     "data": {
      "text/plain": [
       "neutral or dissatisfied    58.709677\n",
       "satisfied                  41.290323\n",
       "Name: satisfaction, dtype: float64"
      ]
     },
     "metadata": {},
     "output_type": "display_data"
    },
    {
     "name": "stdout",
     "output_type": "stream",
     "text": [
      "\n",
      "Tüm veri setindeki Satisfaction dağılımı (karşılaştırma için):\n"
     ]
    },
    {
     "data": {
      "text/plain": [
       "neutral or dissatisfied    56.666731\n",
       "satisfied                  43.333269\n",
       "Name: satisfaction, dtype: float64"
      ]
     },
     "metadata": {},
     "output_type": "display_data"
    }
   ],
   "source": [
    "#Eksik varış gecikmesi olan satırlarda Satisfaction (Müşteri Memnuniyeti) dağılımı için.\n",
    "print(\"\\n'Arrival Delay in Minutes' eksik olan satırlarda Satisfaction dağılımı:\")\n",
    "display(missing_arrival_delay_df['satisfaction'].value_counts(normalize=True) * 100) #missing_arrival_delay_df DataFrame içinden Satisfaction sütununun değerlerini alır ve normalize=True parametresi ile yüzdesel dağılımı görüntüler.\n",
    "\n",
    "print(\"\\nTüm veri setindeki Satisfaction dağılımı (karşılaştırma için):\")\n",
    "display(train_df['satisfaction'].value_counts(normalize=True) * 100) #train_df DataFrame içinden Satisfaction sütununun değerlerini alır ve normalize=True parametresi ile yüzdesel dağılımı görüntüler."
   ]
  },
  {
   "cell_type": "markdown",
   "metadata": {},
   "source": [
    "Bu karşılaştırmada dikkat çeken en önemli nokta, Arrival Delay in Minutes verisi eksik olan durumlarda \"neutral or dissatisfied\" (nötr veya memnuniyetsiz) yolcu oranının, tüm veri setine kıyasla yaklaşık %2 daha yüksek olmasıdır (58.71% vs. 56.67%). Buna paralel olarak, \"satisfied\" (memnun) yolcu oranı ise eksik veriye sahip satırlarda yaklaşık %2 daha düşüktür (41.29% vs. 43.33%).\n",
    "* Varış gecikmesi bilgisinin kaydedilemediği durumlar, yolcuların genellikle olumsuz bir deneyim yaşadığı ve bu nedenle memnuniyetsizliğe meyilli olduğu durumlarla örtüşüyor olabilir.\n",
    "* Belki de ciddi gecikmelerde (ki bu durum memnuniyeti düşürür) veri kaydı eksik kalmıştır. Yani, gecikme ne kadar büyükse, bu bilginin kaydının o kadar zor veya eksik olma ihtimali olabilir.\n",
    "\n",
    "Bu analiz, Arrival Delay in Minutes sütunundaki eksik verilerin rastgele olmadığını, aksine yolcu memnuniyeti ile ilişkili olabileceğini düşündürmektedir."
   ]
  },
  {
   "cell_type": "code",
   "execution_count": 24,
   "metadata": {},
   "outputs": [
    {
     "name": "stdout",
     "output_type": "stream",
     "text": [
      "\n",
      "'Arrival Delay in Minutes' eksik olan satırlarda Class dağılımı:\n"
     ]
    },
    {
     "data": {
      "text/plain": [
       "Eco         49.032258\n",
       "Business    42.580645\n",
       "Eco Plus     8.387097\n",
       "Name: Class, dtype: float64"
      ]
     },
     "metadata": {},
     "output_type": "display_data"
    },
    {
     "name": "stdout",
     "output_type": "stream",
     "text": [
      "\n",
      "Tüm veri setindeki Class dağılımı (karşılaştırma için):\n"
     ]
    },
    {
     "data": {
      "text/plain": [
       "Business    47.798930\n",
       "Eco         44.988643\n",
       "Eco Plus     7.212427\n",
       "Name: Class, dtype: float64"
      ]
     },
     "metadata": {},
     "output_type": "display_data"
    }
   ],
   "source": [
    "#Eksik varış gecikmesi olan satırlarda Class (Uçuş Sınıfı) dağılımı için.\n",
    "print(\"\\n'Arrival Delay in Minutes' eksik olan satırlarda Class dağılımı:\")\n",
    "display(missing_arrival_delay_df['Class'].value_counts(normalize=True) * 100) #missing_arrival_delay_df DataFrame içinden Class sütununun değerlerini alır ve normalize=True parametresi ile yüzdesel dağılımı görüntüler.\n",
    "\n",
    "print(\"\\nTüm veri setindeki Class dağılımı (karşılaştırma için):\")\n",
    "display(train_df['Class'].value_counts(normalize=True) * 100) #train_df DataFrame içinden Class sütununun değerlerini alır ve normalize=True parametresi ile yüzdesel dağılımı görüntüler."
   ]
  },
  {
   "cell_type": "markdown",
   "metadata": {},
   "source": [
    "* Eco sınıfında seyahat eden yolcular arasında, varış gecikmesi verisi eksik olanların oranı (%49.03), genel Eco sınıfı yolcu oranından (%44.99) biraz daha yüksektir. Bu, Eco sınıfında varış gecikmesi bilgisinin eksik olma olasılığının diğer sınıflara göre bir miktar daha fazla olabileceğini gösterir.\n",
    "* Business sınıfında ise durum tersinedir. Varış gecikmesi eksik olanlar arasındaki Business sınıfı oranı (%42.58), genel Business sınıfı oranından (%47.80) daha düşüktür. Bu da Business sınıfı uçuşlarda varış gecikmesi verilerinin daha eksiksiz tutuluyor olabileceğine işaret eder.\n",
    "* Eco Plus sınıfında ise oranlar birbirine oldukça yakındır (eksiklerde %8.39, genelde %7.21). Bu sınıfta eksiklik açısından belirgin bir farklılaşma gözlenmemektedir.\n",
    "\n",
    "Bu karşılaştırma, Arrival Delay in Minutes sütunundaki eksikliğin tamamen rastgele olmayabileceğini, uçuş sınıfı gibi faktörlerle zayıf da olsa bir ilişkisi olabileceğini göstermektedir."
   ]
  },
  {
   "cell_type": "code",
   "execution_count": 25,
   "metadata": {},
   "outputs": [
    {
     "name": "stdout",
     "output_type": "stream",
     "text": [
      "\n",
      "'Arrival Delay in Minutes' eksik olan satırlarda Customer Type dağılımı:\n"
     ]
    },
    {
     "data": {
      "text/plain": [
       "Loyal Customer       84.193548\n",
       "disloyal Customer    15.806452\n",
       "Name: Customer Type, dtype: float64"
      ]
     },
     "metadata": {},
     "output_type": "display_data"
    },
    {
     "name": "stdout",
     "output_type": "stream",
     "text": [
      "\n",
      "Tüm veri setindeki Customer Type dağılımı (karşılaştırma için):\n"
     ]
    },
    {
     "data": {
      "text/plain": [
       "Loyal Customer       81.732176\n",
       "disloyal Customer    18.267824\n",
       "Name: Customer Type, dtype: float64"
      ]
     },
     "metadata": {},
     "output_type": "display_data"
    }
   ],
   "source": [
    "#Eksik varış gecikmesi olan satırlarda Customer Type (Müşteri Tipi) dağılımı için.\n",
    "print(\"\\n'Arrival Delay in Minutes' eksik olan satırlarda Customer Type dağılımı:\")\n",
    "display(missing_arrival_delay_df['Customer Type'].value_counts(normalize=True) * 100) #missing_arrival_delay_df DataFrame içinden Customer Type sütununun değerlerini alır ve normalize=True parametresi ile yüzdesel dağılımı görüntüler.\n",
    "\n",
    "print(\"\\nTüm veri setindeki Customer Type dağılımı (karşılaştırma için):\")\n",
    "display(train_df['Customer Type'].value_counts(normalize=True) * 100) #train_df DataFrame içinden Customer Type sütununun değerlerini alır ve normalize=True parametresi ile yüzdesel dağılımı görüntüler."
   ]
  },
  {
   "cell_type": "markdown",
   "metadata": {},
   "source": [
    "* Loyal Customer (Sadık Müşteri) kategorisinde, varış gecikmesi verisi eksik olanların oranı (%84.19), genel sadık müşteri oranından (%81.73) bir miktar daha yüksektir. Bu, sadık müşterilerde varış gecikmesi bilgisinin eksik olma olasılığının, sadık olmayan müşterilere göre biraz daha fazla olabileceğini düşündürmektedir.\n",
    "* disloyal Customer (Sadık Olmayan Müşteri) kategorisinde ise durum tersinedir. Varış gecikmesi eksik olanlar arasındaki sadık olmayan müşteri oranı (%15.81), genel sadık olmayan müşteri oranından (%18.27) daha düşüktür.\n",
    "\n",
    "Bu karşılaştırma, Arrival Delay in Minutes sütunundaki eksikliğin müşteri tipi ile de zayıf bir ilişkisi olabileceğini göstermektedir. Sadık müşterilerde eksik veri oranının bir nebze daha yüksek, sadık olmayan müşterilerde ise bir nebze daha düşük olması, veri toplama veya kayıt süreçlerinde müşteri tipine bağlı farklar olabileceğine ya da sadık olmayan müşterilerin verilerinin bir şekilde daha eksiksiz olmasına yol açan dolaylı bir etkenin varlığına işaret edebilir. Ancak, yüzdesel farklar çok büyük olmadığından, bu yorumlar ihtiyatla ele alınmalıdır."
   ]
  },
  {
   "cell_type": "markdown",
   "metadata": {},
   "source": [
    "*Arrival Delay in Minutes sütunundaki eksik veriler (%0.30 gibi düşük bir oranda olsa da) tamamen rastgele dağılmamıştır. Bu eksiklik, özellikle kalkışta gecikme yaşayan, memnuniyetsizliğe daha yatkın ve genellikle Ekonomi sınıfında seyahat eden yolcularla bir miktar ilişkilidir. Bu durum, eksik verilerin basitçe göz ardı edilmesi (silinmesi) veya genel ortalama/medyan ile doldurulması durumunda veri setine küçük de olsa bir yanlılık (bias) ekleyebileceğini göstermektedir. Bu nedenle, eksik verileri doldurma (imputation) stratejisi seçilirken bu bulgular göz önünde bulundurulmalıdır.*"
   ]
  },
  {
   "cell_type": "markdown",
   "metadata": {},
   "source": [
    "**Eksik Değer Analizi Sonuçları ve Öneriler**\n",
    "\n",
    "Yapılan eksik değer analizi sonucunda, veri setinde sadece *Arrival Delay in Minutes* sütununda %0.30 gibi düşük bir oranda eksik değer bulunduğu tespit edilmiştir. *Unnamed: 0* ve *id* sütunları ise analiz dışı bırakılacak değişkenler olarak değerlendirilmiştir.\n",
    "\n",
    "En önemli bulgu, *Arrival Delay in Minutes* sütunundaki eksik verilerin tamamen rastgele dağılmadığıdır. Bu eksikliklerin, özellikle kalkışta gecikme yaşayan, memnuniyetsizliğe daha yatkın ve genellikle Ekonomi sınıfında seyahat eden yolcularla bir miktar ilişkili olduğu gözlemlenmiştir. Bu durum, eksik verilerin basitçe silinmesi veya genel ortalama/medyan ile doldurulması durumunda veri setine küçük de olsa bir yanlılık bias ekleyebileceğini göstermektedir.\n",
    "\n",
    "Projenin kapsamı ve veri setindeki eksik değer oranının düşüklüğü göz önüne alındığında, başlangıç olarak basit doldurma yöntemlerinden (örn. ortalama/medyan ile doldurma veya basitçe silme) birini tercih edip, modelleme aşamasında performans düşüşü gözlemlenirse daha ileri düzey yöntemleri (KNN veya regresyon tabanlı doldurma) denemek daha pratik olabilir. Eksik değerlerin rastgele olmaması bulgusu, ileride bu doldurma stratejilerinin etkilerini dikkatlice değerlendirme ihtiyacını ortaya koymaktadır. \n",
    "\n",
    "*Bence projenin analiz kapsamı ve veri setinin bütünlüğünü koruma hedefi göz önüne alındığında, Arrival Delay in Minutes sütununda tespit edilen %0.30'luk eksik değer oranının sütunun medyan değeri ile doldurulması en uygun yöntem olacaktır. Bu yaklaşım, hem düşük orandaki veri kaybını önleyecek hem de medyanın aykırı değerlere karşı daha dayanıklı olması sayesinde, varış gecikmesi dağılımındaki çarpıklığın doldurma işlemine olası etkisini minimize edecektir. Böylece, veri setinin genel yapısı bozulmadan analitik süreçlere devam edilebilecektir.*"
   ]
  },
  {
   "cell_type": "markdown",
   "metadata": {},
   "source": [
    "### Aykırı Değer Analizi"
   ]
  },
  {
   "cell_type": "code",
   "execution_count": 37,
   "metadata": {},
   "outputs": [
    {
     "name": "stdout",
     "output_type": "stream",
     "text": [
      "Aykırı değer analizi için sayısal sütunlar: ['Age', 'Flight Distance', 'Inflight wifi service', 'Departure/Arrival time convenient', 'Ease of Online booking', 'Gate location', 'Food and drink', 'Online boarding', 'Seat comfort', 'Inflight entertainment', 'On-board service', 'Leg room service', 'Baggage handling', 'Checkin service', 'Inflight service', 'Cleanliness', 'Departure Delay in Minutes', 'Arrival Delay in Minutes'] \n",
      "\n",
      "IQR Metodu ile Aykırı Değer Tespiti Detayları:\n",
      "\n",
      "Sütun: Flight Distance\n",
      "  Q1: 414.00\n",
      "  Q3: 1743.00\n",
      "  IQR: 1329.00\n",
      "  Alt Sınır (Lower Bound): -1579.50\n",
      "  Üst Sınır (Upper Bound): 3736.50\n",
      "  Aykırı Değer Sayısı: 2291\n",
      "  Aykırı Değer Yüzdesi: 2.20%\n",
      "\n",
      "Sütun: Checkin service\n",
      "  Q1: 3.00\n",
      "  Q3: 4.00\n",
      "  IQR: 1.00\n",
      "  Alt Sınır (Lower Bound): 1.50\n",
      "  Üst Sınır (Upper Bound): 5.50\n",
      "  Aykırı Değer Sayısı: 12891\n",
      "  Aykırı Değer Yüzdesi: 12.41%\n",
      "\n",
      "Sütun: Departure Delay in Minutes\n",
      "  Q1: 0.00\n",
      "  Q3: 12.00\n",
      "  IQR: 12.00\n",
      "  Alt Sınır (Lower Bound): -18.00\n",
      "  Üst Sınır (Upper Bound): 30.00\n",
      "  Aykırı Değer Sayısı: 14529\n",
      "  Aykırı Değer Yüzdesi: 13.98%\n",
      "\n",
      "Sütun: Arrival Delay in Minutes\n",
      "  Q1: 0.00\n",
      "  Q3: 13.00\n",
      "  IQR: 13.00\n",
      "  Alt Sınır (Lower Bound): -19.50\n",
      "  Üst Sınır (Upper Bound): 32.50\n",
      "  Aykırı Değer Sayısı: 13954\n",
      "  Aykırı Değer Yüzdesi: 13.43%\n",
      "\n",
      "---\n",
      "Tespit edilen aykırı değer içeren sütunlar:\n",
      "- Flight Distance\n",
      "- Checkin service\n",
      "- Departure Delay in Minutes\n",
      "- Arrival Delay in Minutes\n"
     ]
    }
   ],
   "source": [
    "numerical_columns = train_df.select_dtypes(include=['int64', 'float64']).columns #DataFrame içinden int64 ve float64 veri tipinde olan sütunları seçer ve numerical_columns adında bir liste oluşturur. Böylece sadece sayısal sütunların analizi yapılabilir.\n",
    "\n",
    "print(\"Aykırı değer analizi için sayısal sütunlar:\", numerical_columns.to_list(), \"\\n\")\n",
    "\n",
    "columns_with_outliers = [] #Aykırı değer içeren sütunları depolamak için bir liste.\n",
    "\n",
    "print(\"IQR Metodu ile Aykırı Değer Tespiti Detayları:\\n\")\n",
    "\n",
    "for column in numerical_columns:\n",
    "    # Q1 (Birinci Çeyreklik) ve Q3 (Üçüncü Çeyreklik) Hesaplama\n",
    "    Q1 = train_df[column].quantile(0.25)\n",
    "    Q3 = train_df[column].quantile(0.75)\n",
    "\n",
    "    # 2. IQR Hesaplama\n",
    "    IQR = Q3 - Q1\n",
    "\n",
    "    # Alt ve Üst Sınırları Belirleme\n",
    "    lower_bound = Q1 - 1.5 * IQR\n",
    "    upper_bound = Q3 + 1.5 * IQR\n",
    "\n",
    "    # Aykırı Değerleri Tespit Etme\n",
    "    outliers = train_df[(train_df[column] < lower_bound) | (train_df[column] > upper_bound)] #train_df DataFrame içinden column sütununda lower_bound ve upper_bound değerleri arasında olmayan değerleri seçer ve outliers adında yeni bir DataFrame oluşturur.\n",
    "    num_outliers = len(outliers)\n",
    "\n",
    "    if num_outliers > 0:\n",
    "        percentage_outliers = (num_outliers / len(train_df)) * 100\n",
    "        print(f\"Sütun: {column}\")\n",
    "        print(f\"  Q1: {Q1:.2f}\")\n",
    "        print(f\"  Q3: {Q3:.2f}\")\n",
    "        print(f\"  IQR: {IQR:.2f}\")\n",
    "        print(f\"  Alt Sınır (Lower Bound): {lower_bound:.2f}\")\n",
    "        print(f\"  Üst Sınır (Upper Bound): {upper_bound:.2f}\")\n",
    "        print(f\"  Aykırı Değer Sayısı: {num_outliers}\")\n",
    "        print(f\"  Aykırı Değer Yüzdesi: {percentage_outliers:.2f}%\\n\")\n",
    "        columns_with_outliers.append(column)\n",
    "\n",
    "print(\"---\")\n",
    "print(\"Tespit edilen aykırı değer içeren sütunlar:\")\n",
    "for col in columns_with_outliers:\n",
    "    print(f\"- {col}\")\n"
   ]
  },
  {
   "cell_type": "markdown",
   "metadata": {},
   "source": [
    "Yukarıdaki IQR metodu kullanılarak aykırı değer tespiti yapılmıştır, veri setimizdeki sayısal sütunlar incelendiğinde dört temel sütunda aykırı değerler tespit edilmiştir:\n",
    "* *Flight Distance:* Veri dağılımının üst ucunda, uzun mesafeli uçuşları temsil eden aykırı değerler gözlemlenmiştir (%2.20). Bu değerler, uçuş mesafesi ile yolcu memnuniyeti arasındaki ilişkinin analizinde özel dikkat gerektirebilir ve bu uzun uçuşların genel dağılımdan farklı etkileri olabilir.\n",
    "* *Checkin service:* Puanlama aralığının alt sınırının dışında kalan değerler (%12.41) önemli bir aykırı değer grubunu oluşturmaktadır. Bu durum, veri toplama süreçlerindeki potansiyel hatalara veya belirli durumlarda hizmet değerlendirmelerinin farklı kodlanmasına işaret edebilir.\n",
    "* *Departure Delay in Minutes:*  Yüksek gecikme sürelerini temsil eden önemli sayıda aykırı değer bulunmaktadır (%13.98). Bu gecikmelerin yolcu memnuniyeti üzerindeki etkisi analiz edilirken, bu büyük gecikmelerin özel bir kategori olarak ele alınması veya dağılımı normale yaklaştırmak için dönüşümler uygulanması gerekebilir.\n",
    "* *Arrival Delay in Minutes:* Kalkış gecikmelerine benzer şekilde, yüksek varış gecikmelerini gösteren önemli aykırı değerler mevcuttur (%13.43). Bu aykırı değerler, özellikle gecikmelerin yolcu deneyimi üzerindeki negatif etkilerini belirlemede kritik olabilir. \n",
    "\n",
    "Diğer sayısal sütunlarda (örn. Age, Inflight wifi service vb.) IQR metoduna göre aykırı değer tespit edilmemiştir, bu da bu sütunlardaki verilerin daha düzenli ve beklenen aralıklarda olduğunu göstermektedir."
   ]
  },
  {
   "cell_type": "markdown",
   "metadata": {},
   "source": [
    "**Flight Distance (Uçuş Mesafesi) için Kutu Grafiği**"
   ]
  },
  {
   "cell_type": "code",
   "execution_count": 38,
   "metadata": {},
   "outputs": [
    {
     "data": {
      "image/png": "[encoded data removed]",
      "text/plain": [
       "<Figure size 720x432 with 1 Axes>"
      ]
     },
     "metadata": {
      "needs_background": "light"
     },
     "output_type": "display_data"
    }
   ],
   "source": [
    "plt.figure(figsize=(10, 6))\n",
    "sns.boxplot(x=train_df['Flight Distance'])\n",
    "plt.title('Uçuş Mesafesi (Flight Distance) Aykırı Değerleri')\n",
    "plt.xlabel('Uçuş Mesafesi')\n",
    "plt.show()"
   ]
  },
  {
   "cell_type": "markdown",
   "metadata": {},
   "source": [
    "Flight Distance sütununda, dağılımın üst kısmında yoğunlaşan bir miktar aykırı değer gözlemlenmektedir. Bu, bazı uçuşların diğerlerine göre belirgin şekilde daha uzun mesafeli olduğunu göstermektedir. IQR metodu ile üst sınır 3736.50 olarak belirlenmiş ve bu değerin üzerindeki 2291 adet veri noktası (%2.20) aykırı değer olarak tespit edilmiştir. Bu aykırı değerler, özellikle uzun menzilli uluslararası uçuşlardan kaynaklanıyor olabilir ve veri setinin gerçek yapısını yansıtabilir. Bu tür aykırı değerler genellikle silinmez, ancak modelleme aşamasında farklı yaklaşımlar gerektirebilir (logaritmik dönüşüm veya etkilerinin incelenmesi gibi)."
   ]
  },
  {
   "cell_type": "markdown",
   "metadata": {},
   "source": [
    "**Checkin service (Check-in Hizmeti) için Kutu Grafiği**"
   ]
  },
  {
   "cell_type": "code",
   "execution_count": 39,
   "metadata": {},
   "outputs": [
    {
     "data": {
      "image/png": "[encoded data removed]",
      "text/plain": [
       "<Figure size 720x432 with 1 Axes>"
      ]
     },
     "metadata": {
      "needs_background": "light"
     },
     "output_type": "display_data"
    }
   ],
   "source": [
    "plt.figure(figsize=(10, 6))\n",
    "sns.boxplot(x=train_df['Checkin service'])\n",
    "plt.title('Check-in Hizmeti (Checkin service) Aykırı Değerleri')\n",
    "plt.xlabel('Check-in Hizmeti Değerlendirmesi')\n",
    "plt.show()"
   ]
  },
  {
   "cell_type": "markdown",
   "metadata": {},
   "source": [
    "Checkin service sütununda gözlemlenen aykırı değerler, puanlama ölçeğinin (muhtemelen 1-5 arası) alt sınırının (1.50) altında kalan değerleri göstermektedir. Bu sütunda 12891 adet (%12.41) aykırı değer tespit edilmiştir. Bu kadar yüksek bir aykırı değer oranı, veri girişi sırasında hatalar yapılmış olabileceğine veya \"0\" gibi bir değerin özel bir durumu (örn: hizmet alınmadı veya puanlama dışı bir durum) temsil edebileceğine işaret edebilir. Eğer puanlama 1-5 arası standart bir ölçekse, bu aykırı değerler veri temizleme aşamasında dikkatle incelenmeli ve duruma göre düzeltilmeli veya uygun şekilde dönüştürülmelidir."
   ]
  },
  {
   "cell_type": "markdown",
   "metadata": {},
   "source": [
    "**Departure Delay in Minutes (Kalkış Gecikmesi) için Kutu Grafiği**"
   ]
  },
  {
   "cell_type": "code",
   "execution_count": 40,
   "metadata": {},
   "outputs": [
    {
     "data": {
      "image/png": "[encoded data removed]",
      "text/plain": [
       "<Figure size 720x432 with 1 Axes>"
      ]
     },
     "metadata": {
      "needs_background": "light"
     },
     "output_type": "display_data"
    }
   ],
   "source": [
    "plt.figure(figsize=(10, 6))\n",
    "sns.boxplot(x=train_df['Departure Delay in Minutes'])\n",
    "plt.title('Kalkış Gecikmesi (Departure Delay in Minutes) Aykırı Değerleri')\n",
    "plt.xlabel('Kalkış Gecikmesi (Dakika)')\n",
    "plt.show()"
   ]
  },
  {
   "cell_type": "markdown",
   "metadata": {},
   "source": [
    "Departure Delay in Minutes sütunu, aykırı değerler açısından oldukça zengin bir dağılıma sahiptir. IQR metodu ile üst sınır 30.00 dakika olarak belirlenmiş olup, bu değerin üzerindeki 14529 adet (%13.98) veri noktası aykırı değer olarak tespit edilmiştir. Grafikte, çoğu uçuşun düşük veya sıfır gecikme yaşadığı görülürken, sağ tarafta belirgin bir şekilde uzayan bir kuyruk, yüksek gecikmeli uçuşları temsil eden çok sayıda aykırı değer olduğunu göstermektedir. Bu aykırı değerler (uzun gecikmeler), gerçek dünya senaryolarını yansıttığı için genellikle veri setinden silinmezler ancak analizlerde özel olarak ele alınmaları gerekebilir (logaritmik dönüşüm veya gecikme gruplarına ayırma gibi teknikler kullanılarak)."
   ]
  },
  {
   "cell_type": "markdown",
   "metadata": {},
   "source": [
    "**Arrival Delay in Minutes (Varış Gecikmesi) için Kutu Grafiği**"
   ]
  },
  {
   "cell_type": "code",
   "execution_count": 42,
   "metadata": {},
   "outputs": [
    {
     "data": {
      "image/png": "[encoded data removed]",
      "text/plain": [
       "<Figure size 720x432 with 1 Axes>"
      ]
     },
     "metadata": {
      "needs_background": "light"
     },
     "output_type": "display_data"
    }
   ],
   "source": [
    "plt.figure(figsize=(10, 6))\n",
    "sns.boxplot(x=train_df['Arrival Delay in Minutes'])\n",
    "plt.title('Varış Gecikmesi (Arrival Delay in Minutes) Aykırı Değerleri')\n",
    "plt.xlabel('Varış Gecikmesi (Dakika)')\n",
    "plt.show()"
   ]
  },
  {
   "cell_type": "markdown",
   "metadata": {},
   "source": [
    "Arrival Delay in Minutes sütunu da Departure Delay in Minutes sütununa benzer şekilde çok sayıda aykırı değere sahiptir. IQR metodu ile üst sınır 32.50 dakika olarak belirlenmiş ve bu değerin üzerindeki 13954 adet (%13.43) veri noktası aykırı değer olarak tespit edilmiştir. Varış gecikmelerinin dağılımı sağa çarpık olup, uzun gecikmelerin aykırı değer olarak ortaya çıktığını göstermektedir. Özellikle kalkış ve varış gecikmeleri arasındaki ilişki ve her ikisinin yolcu memnuniyeti üzerindeki kombine etkisi daha derinlemesine analiz edilebilir. Ayrıca, Arrival Delay in Minutes sütununda eksik değerler olduğunu da hatırlatmakta fayda var; bu eksik değerlerin giderilmesi, aykırı değer analizini daha güvenilir hale getirecektir."
   ]
  },
  {
   "cell_type": "markdown",
   "metadata": {},
   "source": [
    "**Aykırı Değer Analizi Sonuçları ve Öneriler**"
   ]
  },
  {
   "cell_type": "markdown",
   "metadata": {},
   "source": [
    "Bu proje ödevi bir veri analiz projesi olduğundan, veri setindeki orijinal bilgiyi korunarak ve gerekli analizle yapılmış olup tespit edilen eksik ve aykırı değerler üzerinde doğrudan bir düzeltme veya silme işlemi yapılmamıştır. Bunun yerine, her bir sütun için aykırı değerlerin olası ele alma stratejileri aşağıda açıklanmıştır:\n",
    "* *Flight Distance:* Flight Distance sütununda, dağılımın üst çeyreğinde (Q3'ten 1.5*IQR yukarıda) konumlanan %2.20 oranında aykırı değer tespit edilmiştir. Bu aykırı değerler, özellikle 3736.50 birim üzeri uçuş mesafelerini temsil etmektedir. Bu tür aykırı değerler genellikle veri giriş hatasından ziyade, uzun menzilli uçuşları yansıtan doğal varyasyonlardır. Silinmeleri, veri setinin gerçek dağılımını ve uzun mesafeli uçuşların yolcu memnuniyeti üzerindeki potansiyel etkisini kaybedebilir.\n",
    "    * Dönüşüm (Transformation): Sağdan çarpık dağılımlar için logaritmik dönüşüm (np.log1p()) uygulanabilir. Bu, büyük değerlerin etkisini azaltarak dağılımı daha simetrik hale getirebilir ve regresyon modellerinin varsayımlarına uyumu artırabilir.\n",
    "    * Capping/Winsorization: Aşırı uç değerler, belirli bir persentil değeri ile sınırlandırılabilir. Bu yöntem, aykırı değerlerin aşırı etkisini azaltırken verinin genel yapısını korumayı amaçlar.\n",
    "    * Kategorizasyon: Flight Distance sütunu, belirli eşik değerlere göre (örn. kısa, orta, uzun mesafe) kategorik bir değişkene dönüştürülebilir. Bu, doğrusal olmayan ilişkileri yakalamak için faydalı olabilir.\n",
    "\n",
    "*Bence bu veri seti için Flight Distance değişkenindeki aykırı değerlerin logaritmik dönüşüm ile ele alınması en uygun yaklaşım olacaktır. Çünkü bu dönüşüm, verinin orijinal doğasındaki oranları korurken, aşırı yüksek değerlerin regresyon veya sınıflandırma modelleri üzerindeki çarpık etkisini azaltmaya yardımcı olur. Ayrıca, bu yöntem, veri kaybı yaşanmadan veya yapay sınırlar getirilmeden dağılımı normale yaklaştırarak model performansını artırma potansiyeli taşır.*\n",
    "\n",
    "* *Checkin service:*  Bu sütunda, puanlama ölçeğinin altında kalan (Q1'den 1.5*IQR aşağıda, yani 1.50'den küçük) %12.41 oranında yüksek sayıda aykırı değer gözlemlenmiştir. Özellikle 0 gibi değerler bu grubu oluşturmaktadır. Bu durum, veri toplama aşamasındaki hatalara, anketin doldurulmamasından kaynaklanan eksik değerlerin yanlış kodlanmasına bir durumun hatalı temsiline işaret edebileceğini öngörmüştük. Bu değerler, değişkenin ortalama ve medyan gibi merkezi eğilim ölçümlerini yanıltıcı hale getirebilir.\n",
    "    * Veri Doğrulama ve Temizleme: Eğer anketin puanlama sistemi 1-5 arasındaysa, 0 gibi değerler geçersiz kabul edilerek eksik değer (np.nan) olarak atanabilir.\n",
    "    * İmputasyon (Doldurma): Eksik değer olarak işaretlenen bu değerler daha sonra medyan, mod gibi istatistiksel yöntemlerle veya daha gelişmiş yöntemlerle (örn. k-NN imputasyon, regresyon imputasyon) doldurulabilir. Ancak, doldurma işlemi öncesinde bu değerlerin neden böyle çıktığına dair bir alan uzmanı görüşü almak en sağlıklısı olacaktır.\n",
    "    * Kategorik Dönüşüm: Eğer 0'ın özel bir anlamı varsa (örn. hizmet alınmadı), bu değer ayrı bir kategorik seviye olarak değerlendirilip değişken object tipine dönüştürülebilir.\n",
    "\n",
    "*Bence projenin analitik yapısı göz önüne alındığında ve Checkin service sütunundaki 0 değerlerinin potansiyel veri girişi hatası veya özel bir durumu (hizmet alınmaması gibi) temsil etme olasılığı nedeniyle, bu değerlerin öncelikle np.nan olarak atanması ve ardından veri setindeki diğer geçerli Checkin service değerlendirmelerinin medyan değeri ile doldurulması en uygun strateji olacaktır. Medyan, aykırı değerlere karşı daha dayanıklı olduğu için, bu tür potansiyel hatalı girişlerin doldurma sürecini en az etkilemesini sağlayacaktır.*\n",
    "\n",
    "* *Departure Delay in Minutes:* Dağılımın üst ucunda (Q3'ten 1.5*IQR yukarıda, yani 30.00 dakikadan fazla) yoğunlaşan %13.98 oranında aykırı değer bulunmaktadır. Bu değerler, uzun süreli kalkış gecikmelerini temsil etmektedir. Gecikme verileri doğal olarak sağdan çarpık bir dağılım sergiler ve uzun gecikmeler aykırı değer olarak görünse de, bunlar gerçek olaylardır ve veri setinin önemli bir parçasıdır. Bu değerleri doğrudan silmek, veri setindeki önemli bilgileri kaybetmeye ve modelin gecikmelerin etkisini doğru bir şekilde öğrenememesine yol açabilir.\n",
    "    * Dönüşüm (Transformation): Dağılımı normale yaklaştırmak ve modelin varsayımlarına uyumu artırmak için logaritmik (np.log1p()) veya karekök dönüşümü gibi teknikler uygulanabilir.\n",
    "    * Capping (Sınırlandırma): Aşırı uç gecikme değerleri, verinin 99. veya 95. persentili gibi belirli bir eşik değere sabitlenebilir. Bu, modelin aşırı uç değerlerden etkilenmesini azaltır.\n",
    "    * Kategorizasyon: Gecikme süreleri, memnuniyetle ilişkili olabilecek belirli aralıklara göre (örn. \"Gecikme Yok\", \"0-15 Dakika Gecikme\", \"15-60 Dakika Gecikme\", \"60+ Dakika Gecikme\") kategorik bir değişkene dönüştürülebilir. Bu, modelin doğrusal olmayan etkileri daha iyi yakalamasına yardımcı olabilir.\n",
    "\n",
    "*Bence kalkış gecikmelerinin yolcu memnuniyeti üzerindeki doğrusal olmayan ve genellikle güçlü negatif etkilerini en iyi şekilde yakalamak amacıyla, Departure Delay in Minutes değişkeni için kategorizasyon yöntemi tercih edilmelidir. Örneğin, Gecikme Yok, Kısa Gecikme, Orta Gecikme ve Uzun Gecikme gibi anlamlı kategorilere ayırmak, gecikmenin derecesinin memnuniyet üzerindeki farklı etkilerini modelin daha iyi öğrenmesini sağlayacaktır. Bu yaklaşım, aşırı uç değerlerin doğrudan etkisini yönetirken, aynı zamanda iş yorumlanabilirliğini de artırır.*\n",
    "\n",
    "* *Arrival Delay in Minutes:* Departure Delay sütununa benzer şekilde, Arrival Delay in Minutes sütununda da dağılımın üst ucunda (Q3'ten 1.5×IQR yukarıda, yani 32.50 dakikadan fazla) %13.43 oranında aykırı değer tespit edilmiştir. Bu değerler de uzun süreli varış gecikmelerini yansıtmaktadır. Ayrıca, bu sütunda %0.30 oranında eksik değer de bulunmaktadır. Varış gecikmeleri de gerçek olaylardır ve yolcu memnuniyeti üzerindeki etkileri kritik olabilir. Eksik değerlerin varlığı, aykırı değer stratejileri öncesinde ele alınması gereken bir ön işleme adımıdır.\n",
    "    * Eksik Değer Yönetimi: Aykırı değer stratejileri uygulanmadan önce, Arrival Delay in Minutes sütunundaki eksik değerler doldurulmalıdır. Gecikme verilerinin doğası gereği, medyan ile doldurma veya benzer uçuş koşullarına sahip diğer verilerden tahmin etme (k-NN Imputer) yöntemleri daha uygun olabilir.\n",
    "    * Dönüşüm, Capping, Kategorizasyon: Eksik değerler doldurulduktan sonra, Departure Delay in Minutes için belirtilen stratejiler (logaritmik dönüşüm, capping, kategorizasyon) Arrival Delay in Minutes için de geçerlidir.\n",
    "\n",
    "*Bence öncelikle, Arrival Delay in Minutes sütunundaki eksik değerlerin medyan ile doldurulması tercih edilir, zira medyan aykırı değerlere karşı daha sağlamdır ve gecikme verisinin doğasına uygun bir merkezi eğilim ölçüsüdür. Doldurma işlemi sonrasında, Departure Delay in Minutes ile tutarlılık ve karşılaştırılabilirlik sağlamak amacıyla, Arrival Delay in Minutes değişkeninin de kategorizasyon yöntemi ile ele alınması önerebilirim. Bu, varış gecikmesinin yolcu memnuniyeti üzerindeki kademeli ve doğrusal olmayan etkilerini daha anlaşılır bir şekilde modellemeye olanak tanıyacak ve iş yorumlanabilirliğini artıracaktır.*"
   ]
  }
 ],
 "metadata": {
  "kernelspec": {
   "display_name": "base",
   "language": "python",
   "name": "python3"
  },
  "language_info": {
   "codemirror_mode": {
    "name": "ipython",
    "version": 3
   },
   "file_extension": ".py",
   "mimetype": "text/x-python",
   "name": "python",
   "nbconvert_exporter": "python",
   "pygments_lexer": "ipython3",
   "version": "3.8.8"
  }
 },
 "nbformat": 4,
 "nbformat_minor": 2
}
